{
 "cells": [
  {
   "cell_type": "code",
   "execution_count": 1,
   "id": "984252f4",
   "metadata": {},
   "outputs": [],
   "source": [
    "#Q1 - In the below elements which of them are values or an expression? \n",
    "\n",
    "\"\"\"\n",
    "Ans 1 : \n",
    "\n",
    "*         -  expression\n",
    "hello     -  values\n",
    "-87.8     -  values\n",
    "-         -  expression\n",
    "/         -  expression\n",
    "+         -  expression\n",
    "6         -  values\n",
    "\n",
    "\"\"\""
   ]
  },
  {
   "cell_type": "code",
   "execution_count": null,
   "id": "d1bc4922",
   "metadata": {},
   "outputs": [],
   "source": [
    "#2. What is the difference between string and variable?\n",
    "\n",
    "\"\"\"\n",
    "Ans2 : \n",
    "A Variable is a store of information, it is used to store a value in a memory location and to manipulate it if needed. and a String is a type of information you would store in a Variable. \n",
    "A String is usually words, enclosed with \"\". \n",
    "Strings are sequences of characters that are used for conveying textual information.It is a data, so we can use them to fill up a variable.\n",
    "\n",
    "Eg\n",
    "String x =\"Welcome here\"\n",
    "x is the Variable, and we declared it as a String, use the single = to assign the text to it.\n",
    "\n",
    "\"\"\""
   ]
  },
  {
   "cell_type": "code",
   "execution_count": null,
   "id": "ed4fd48f",
   "metadata": {},
   "outputs": [],
   "source": [
    "#3. Describe three different data types.\n",
    "\n",
    "\"\"\"\n",
    "Ans3 :\n",
    "Here are three different data types commonly used in Python:\n",
    "1. Integer (int):\n",
    "An integer data type represents whole numbers, both positive and negative, without any fractional parts.\n",
    "Eg : x = 42  # integer\n",
    "y = -17  # Negative integer\n",
    "\n",
    "2. Float (float):\n",
    "A float data type represents numbers with fractional parts. It is used for decimal numbers. \n",
    "Eg : a = 3.14  # Regular floating-point number\n",
    "b = -2.71828  # Negative floating-point number\n",
    "\n",
    "3. String (str):\n",
    "A string data type represents a sequence of characters and is used to store text data. \n",
    "Strings can be enclosed in single quotes (') or double quotes (\").\n",
    "eg : name = 'Mayank'  # String enclosed in single quotes\n",
    "greeting = \"Hello, Mayank!\"  # String enclosed in double quotes\n",
    "\n",
    "\"\"\""
   ]
  },
  {
   "cell_type": "code",
   "execution_count": null,
   "id": "98d0e520",
   "metadata": {},
   "outputs": [],
   "source": [
    "#4. What is an expression made up of? What do all expressions do?\n"
   ]
  },
  {
   "cell_type": "code",
   "execution_count": null,
   "id": "59e2b5d8",
   "metadata": {},
   "outputs": [],
   "source": [
    "\"\"\"\n",
    "Ans4: \n",
    "In Python, an expression is a combination of values, variables, operators, and function calls that can be evaluated to produce a result.\n",
    "Expressions are the building blocks of Python programs and are used to perform computations, manipulate data, and make decisions.\n",
    "\n",
    " Here are some examples of expressions:\n",
    "1. Simple Arithmetic Expression:\n",
    "result = 9 * 2  # This expression multiplies two numbers (9 and 2) together and assigns the result to the variable 'result'.\n",
    "\n",
    "2. Variable Assignment Expression:\n",
    "x = 76  # This expression assigns the value 10 to the variable 'x'.\n",
    "\n",
    "3. Function Call Expression:\n",
    "length = len(\"Hello Mayank\")  # This expression calls the 'len()' function to get the length of the string and assigns it to the variable 'length'.\n",
    "\n",
    "4. Complex Expression:\n",
    "y = (5 - y) * (length / 2)  # This expression combines arithmetic operations with variables and function calls.\n",
    "\n",
    "Expressions can be used in various contexts within Python programs, such as:\n",
    "\n",
    "Assigning values to variables.\n",
    "Performing arithmetic calculations.\n",
    "Making decisions with conditional expressions.\n",
    "Checking conditions in loops and conditional statements.\n",
    "As arguments to functions.\n",
    "\"\"\""
   ]
  },
  {
   "cell_type": "code",
   "execution_count": null,
   "id": "6da48b7a",
   "metadata": {},
   "outputs": [],
   "source": [
    "#5. This assignment statements, like spam = 10. What is the difference between an expression and a statement?\n",
    "\"\"\"\n",
    "Ans5:\n",
    "1. Expression:\n",
    "An expression is a combination of values, variables, operators, and function calls that can be evaluated to produce a single value. It always returns a value. \n",
    "Examples of expressions include arithmetic expressions, function calls, and string operations. Expressions can be used within statements.\n",
    "\n",
    "Eg : x = 77  # Here, the expression is '77', which evaluates to the value 77 and is then assigned to the variable 'x'.\n",
    "y = 2 * (x + 5)  # This expression evaluates to a value based on the calculation of 'x + 5' and then multiplies it by 2.\n",
    "\n",
    "Statement:\n",
    "A statement is a complete instruction that performs an action in Python. It is a line of code that can include one or more expressions. \n",
    "Unlike expressions, statements don't return a value.\n",
    "\n",
    "Eg : num = 10  # This is an assignment statement that assigns the value 10 to the variable 'num'.\n",
    "     if num > 5:  # This is an if statement that controls the flow of the program based on the condition 'num > 5'.\n",
    "     print(\"Num is greater than 5\")  # This is a print statement that displays the specified message on the console.\n",
    "\n",
    "In the example above in question, spam = 10 is a statement that includes the expression 10, which is evaluated and assigned to the variable 'spam'.\n",
    "\n",
    "In summary, the main difference between expressions and statements is that expressions always produce a value, whereas statements perform actions and don't return a value. \n",
    "Python programs are composed of both expressions and statements, working together to achieve desired tasks and control the flow of the program.\n",
    "\"\"\" "
   ]
  },
  {
   "cell_type": "code",
   "execution_count": null,
   "id": "2e411b99",
   "metadata": {},
   "outputs": [],
   "source": [
    "#6. After running the following code, what does the variable bacon contain? bacon = 22  bacon + 1"
   ]
  },
  {
   "cell_type": "code",
   "execution_count": null,
   "id": "7baef6df",
   "metadata": {},
   "outputs": [],
   "source": [
    "\"\"\"\n",
    "Ans6:\n",
    "bacon = 22\n",
    "bacon + 1\n",
    "\n",
    "Unchanged because :\n",
    "Since the expression bacon + 1 is not assigned to any variable, the value of bacon remains unchanged, and it will still hold the value 22. \n",
    "If you want to update the value of bacon to reflect the addition, you need to use an assignment statement like bacon = bacon + 1.\n",
    "\"\"\""
   ]
  },
  {
   "cell_type": "code",
   "execution_count": null,
   "id": "4983912c",
   "metadata": {},
   "outputs": [],
   "source": [
    "#7. What should the values of the following two terms be?\n",
    "#     'spam' + 'spamspam'\n",
    "#     'spam' * 3\n"
   ]
  },
  {
   "cell_type": "code",
   "execution_count": null,
   "id": "6ce27a48",
   "metadata": {},
   "outputs": [],
   "source": [
    "'''\n",
    "Ans7:\n",
    "1. 'spam' + 'spamspam': This expression performs string concatenation. It joins the two strings 'spam' and 'spamspam' together, \n",
    "Output : 'spamspamspam'.\n",
    "\n",
    "2. 'spam' * 3: This expression performs string repetition. It repeats the string 'spam' three times, \n",
    "Output : 'spamspamspam'.\n",
    "\n",
    "'''"
   ]
  },
  {
   "cell_type": "code",
   "execution_count": null,
   "id": "f646dbb1",
   "metadata": {},
   "outputs": [],
   "source": [
    "#8. Why is eggs a valid variable name while 100 is invalid?\n",
    "'''\n",
    "Ans8 : \n",
    "There are some rules for naming variables in Python and one of them is :\n",
    "-> Variable names must start with a letter (a-z, A-Z) or an underscore (_). They cannot start with a number (0-9).\n",
    "\n",
    "If we have to consider above provided example :\n",
    "1. eggs:\n",
    "eggs is a valid variable name because it starts with a letter (e) and contains only letters. It follows all the rules for naming variables in Python.\n",
    "\n",
    "2. 100:\n",
    "100 is an invalid variable name because it starts with a number (1). According to the rules, variable names cannot start with a number; they must begin with a letter or an underscore.\n",
    "'''"
   ]
  },
  {
   "cell_type": "code",
   "execution_count": null,
   "id": "9a836a97",
   "metadata": {},
   "outputs": [],
   "source": [
    "#9. What three functions can be used to get the integer, floating-point number, or string version of a value?"
   ]
  },
  {
   "cell_type": "code",
   "execution_count": null,
   "id": "a1fad950",
   "metadata": {},
   "outputs": [],
   "source": [
    "'''\n",
    "And9:\n",
    "\n",
    "In Python, we can use the following three built-in functions to convert a value to its corresponding data type:\n",
    "\n",
    "1. int(): This function is used to convert a value to an integer data type. It can convert numeric strings or floating-point numbers to integers. If the value cannot be converted to an integer, it will raise a ValueError exception.\n",
    "\n",
    "Example:\n",
    "num_str = \"42\"\n",
    "integer_value = int(num_str)\n",
    "print(integer_value)  # Output: 42\n",
    "\n",
    "2. float(): This function is used to convert a value to a floating-point number data type. It can convert numeric strings or integers to floating-point numbers. If the value cannot be converted to a float, it will raise a ValueError exception.\n",
    "\n",
    "Example:\n",
    "num_str = \"3.14\"\n",
    "float_value = float(num_str)\n",
    "print(float_value)  # Output: 3.14\n",
    "\n",
    "3. str(): This function is used to convert a value to a string data type. It can convert integers, floating-point numbers, or other data types to their string representations.\n",
    "\n",
    "Example:\n",
    "num = 42\n",
    "str_value = str(num)\n",
    "print(str_value)  # Output: \"42\"\n",
    "\n",
    "'''"
   ]
  },
  {
   "cell_type": "code",
   "execution_count": null,
   "id": "69eb194a",
   "metadata": {},
   "outputs": [],
   "source": [
    "#10. Why does this expression cause an error? How can you fix it?\n",
    "#      'I have eaten' + 99 + 'burritos'."
   ]
  },
  {
   "cell_type": "code",
   "execution_count": null,
   "id": "a0fb8459",
   "metadata": {},
   "outputs": [],
   "source": [
    "'''\n",
    "Ans10:\n",
    "The expression 'I have eaten' + 99 + ' burritos.' causes an error because you cannot directly concatenate a string ('I have eaten ') with an integer (99). \n",
    "In Python, concatenation with the + operator is only allowed between strings or variables that contain strings.\n",
    "\n",
    "To fix the error, you need to convert the integer 99 to a string before concatenating it with the other strings.\n",
    "\n",
    "Here's the corrected version of the expression:\n",
    "\n",
    "'I have eaten ' + str(99) + ' burritos.'\n",
    "\n",
    "'''"
   ]
  },
  {
   "cell_type": "code",
   "execution_count": 4,
   "id": "2aabedf4",
   "metadata": {},
   "outputs": [
    {
     "data": {
      "text/plain": [
       "'I have eaten 99 burritos.'"
      ]
     },
     "execution_count": 4,
     "metadata": {},
     "output_type": "execute_result"
    }
   ],
   "source": [
    "'I have eaten ' + str(99) + ' burritos.'"
   ]
  },
  {
   "cell_type": "code",
   "execution_count": 5,
   "id": "9a58958c",
   "metadata": {},
   "outputs": [
    {
     "data": {
      "text/plain": [
       "'I have eaten 99 burritos.'"
      ]
     },
     "execution_count": 5,
     "metadata": {},
     "output_type": "execute_result"
    }
   ],
   "source": [
    "'I have eaten ' + '99' + ' burritos.'"
   ]
  },
  {
   "cell_type": "code",
   "execution_count": null,
   "id": "4a552dd3",
   "metadata": {},
   "outputs": [],
   "source": []
  },
  {
   "cell_type": "code",
   "execution_count": null,
   "id": "45ab9b47",
   "metadata": {},
   "outputs": [],
   "source": []
  },
  {
   "cell_type": "code",
   "execution_count": null,
   "id": "a8b5dbad",
   "metadata": {},
   "outputs": [],
   "source": []
  },
  {
   "cell_type": "code",
   "execution_count": null,
   "id": "0511c177",
   "metadata": {},
   "outputs": [],
   "source": []
  },
  {
   "cell_type": "code",
   "execution_count": null,
   "id": "90ee0bdd",
   "metadata": {},
   "outputs": [],
   "source": []
  },
  {
   "cell_type": "code",
   "execution_count": null,
   "id": "d7ee2d79",
   "metadata": {},
   "outputs": [],
   "source": []
  },
  {
   "cell_type": "code",
   "execution_count": null,
   "id": "6f84cb89",
   "metadata": {},
   "outputs": [],
   "source": []
  },
  {
   "cell_type": "code",
   "execution_count": null,
   "id": "d166b77d",
   "metadata": {},
   "outputs": [],
   "source": []
  },
  {
   "cell_type": "code",
   "execution_count": null,
   "id": "740a9afc",
   "metadata": {},
   "outputs": [],
   "source": []
  }
 ],
 "metadata": {
  "kernelspec": {
   "display_name": "Python 3 (ipykernel)",
   "language": "python",
   "name": "python3"
  },
  "language_info": {
   "codemirror_mode": {
    "name": "ipython",
    "version": 3
   },
   "file_extension": ".py",
   "mimetype": "text/x-python",
   "name": "python",
   "nbconvert_exporter": "python",
   "pygments_lexer": "ipython3",
   "version": "3.11.3"
  }
 },
 "nbformat": 4,
 "nbformat_minor": 5
}
